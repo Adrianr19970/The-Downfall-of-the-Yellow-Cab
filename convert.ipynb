{
 "cells": [
  {
   "cell_type": "code",
   "execution_count": 1,
   "metadata": {},
   "outputs": [],
   "source": [
    "import numpy as np \n",
    "import pandas as pd\n",
    "import pyarrow as pa"
   ]
  },
  {
   "cell_type": "code",
   "execution_count": 4,
   "metadata": {},
   "outputs": [],
   "source": [
    "# This will convert the 3 parquet files to a csv format\n",
    "\n",
    "df1 = pd.read_parquet('yellow_tripdata_2019-04.parquet').to_csv('yellow_tripdata_2019-04.csv')\n",
    "df2 = pd.read_parquet('yellow_tripdata_2020-04.parquet').to_csv('yellow_tripdata_2020-04.csv')\n",
    "df3 = pd.read_parquet('yellow_tripdata_2021-04.parquet').to_csv('yellow_tripdata_2021-04.csv')"
   ]
  }
 ],
 "metadata": {
  "interpreter": {
   "hash": "f9eef409e30f8d3f0c7ad2a07b1623eb12b39acc7a3e554507522ea7d67ae065"
  },
  "kernelspec": {
   "display_name": "Python 3.9.13 64-bit (windows store)",
   "language": "python",
   "name": "python3"
  },
  "language_info": {
   "codemirror_mode": {
    "name": "ipython",
    "version": 3
   },
   "file_extension": ".py",
   "mimetype": "text/x-python",
   "name": "python",
   "nbconvert_exporter": "python",
   "pygments_lexer": "ipython3",
   "version": "3.9.13"
  },
  "orig_nbformat": 4
 },
 "nbformat": 4,
 "nbformat_minor": 2
}
